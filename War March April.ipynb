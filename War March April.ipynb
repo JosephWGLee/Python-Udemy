{
 "cells": [
  {
   "cell_type": "code",
   "execution_count": 148,
   "id": "44878ef2-842f-4ce0-a2ad-01de38208b95",
   "metadata": {
    "tags": []
   },
   "outputs": [],
   "source": [
    "import random\n",
    "\n",
    "suits = ('Hearts', 'Diamonds', 'Spades', 'Clubs')\n",
    "\n",
    "ranks = ('Two', 'Three', 'Four', 'Five', 'Six', 'Seven', 'Eight', 'Nine', 'Ten', 'Jack', 'Queen', 'King', 'Ace')\n",
    "\n",
    "values = {'Two':2, 'Three':3, 'Four':4, 'Five':5, 'Six':6, 'Seven':7, 'Eight':8, \n",
    "            'Nine':9, 'Ten':10, 'Jack':11, 'Queen':12, 'King':13, 'Ace':14}\n",
    "\n",
    "# LARGE GLOBAL VARIABLE AT TOP\n",
    "\n",
    "#Tuple\n",
    "#Tuple\n",
    "#Dictionary\n"
   ]
  },
  {
   "cell_type": "code",
   "execution_count": 149,
   "id": "e008344a-2b4a-4ab2-a5cf-d0124c748d24",
   "metadata": {
    "tags": []
   },
   "outputs": [],
   "source": [
    "class Card:\n",
    "    \n",
    "    def __init__(self,suit,rank): #people provide suit and rank. Value assigned my by dict\n",
    "        self.suit = suit \n",
    "        self.rank = rank\n",
    "        self.value = values[rank] #rank must match up exactly ith the values dictionary\n",
    "        \n",
    "    def __str__(self):\n",
    "        return self.rank + ' of ' + self.suit"
   ]
  },
  {
   "cell_type": "code",
   "execution_count": 150,
   "id": "731ca823-29dc-4f89-b310-9c251d4e0ab8",
   "metadata": {
    "tags": []
   },
   "outputs": [],
   "source": [
    "#create instances of card class within another class"
   ]
  },
  {
   "cell_type": "code",
   "execution_count": 151,
   "id": "3d9eb595-fae6-46e3-8423-d4e0c15ac8b8",
   "metadata": {
    "tags": []
   },
   "outputs": [],
   "source": [
    "# Create all 52 cards, hold them as a list, with objects holding the values suit rank val etc"
   ]
  },
  {
   "cell_type": "code",
   "execution_count": 152,
   "id": "83fdb636-996f-4b83-897a-d64974444083",
   "metadata": {
    "tags": []
   },
   "outputs": [],
   "source": [
    "#Shuffle deck randomly "
   ]
  },
  {
   "cell_type": "code",
   "execution_count": 153,
   "id": "584d9544-4baf-4a1f-95a7-f4c947f013a2",
   "metadata": {
    "tags": []
   },
   "outputs": [],
   "source": [
    "#Deal cards .pop to take from deck "
   ]
  },
  {
   "cell_type": "code",
   "execution_count": 154,
   "id": "166165f1-c197-4d10-b91c-be9fd8abd18e",
   "metadata": {
    "tags": []
   },
   "outputs": [],
   "source": [
    "class Deck:\n",
    "    \n",
    "    def __init__(self):\n",
    "        \n",
    "        self.all_cards = [] #empty list no user input \n",
    "        \n",
    "        for suit in suits: # Suits full\n",
    "            for rank in ranks: # Ranks Full\n",
    "                #creating card object\n",
    "                created_card = Card(suit,rank)\n",
    "                \n",
    "                self.all_cards.append(created_card) #append created card to deck\n",
    "                \n",
    "    def shuffle(self):\n",
    "        \n",
    "        random.shuffle(self.all_cards)\n",
    "        \n",
    "    def deal_one(self):\n",
    "        return self.all_cards.pop()"
   ]
  },
  {
   "cell_type": "code",
   "execution_count": 155,
   "id": "27d27760-497e-4503-8cb4-c6787782ff28",
   "metadata": {
    "tags": []
   },
   "outputs": [],
   "source": [
    "class Player:\n",
    "    \n",
    "    def __init__(self,name):\n",
    "        \n",
    "        self.name = name\n",
    "        self.all_cards = []\n",
    "    \n",
    "    def remove_one(self):\n",
    "        return self.all_cards.pop(0)\n",
    "    \n",
    "    def add_cards(self,new_cards):\n",
    "        if type(new_cards) == type([]):\n",
    "            self.all_cards.extend(new_cards) #multiple card object\n",
    "        else:\n",
    "            self.all_cards.append(new_cards) #single card object\n",
    "    \n",
    "    def __str__(self):\n",
    "        return f\"Player {self.name} has {len(self.all_cards)} cards.\"\n",
    "        \n",
    "      "
   ]
  },
  {
   "cell_type": "code",
   "execution_count": 156,
   "id": "da84ecaf-44cf-4cf6-b684-05a9ed28a59d",
   "metadata": {
    "tags": []
   },
   "outputs": [],
   "source": [
    "# GAME SETUP CREATE PLAYERS\n",
    "\n",
    "player_one = Player(\"One\")\n",
    "player_two = Player(\"Two\")\n",
    "\n",
    "new_deck = Deck()\n",
    "new_deck.shuffle()\n",
    "\n",
    "for x in range(26): #DECK SHUFFLED BETWEEN PLAYERS\n",
    "    player_one.add_cards(new_deck.deal_one())\n",
    "    player_two.add_cards(new_deck.deal_one())"
   ]
  },
  {
   "cell_type": "code",
   "execution_count": 157,
   "id": "83b5ee38-d316-4257-96a1-965e46b8e5bd",
   "metadata": {
    "tags": []
   },
   "outputs": [],
   "source": [
    "game_on = True"
   ]
  },
  {
   "cell_type": "code",
   "execution_count": 158,
   "id": "164c9222-38a2-4866-9dcb-b62136ae7d76",
   "metadata": {
    "tags": []
   },
   "outputs": [],
   "source": [
    "# WHILE LOOPS\n",
    "\n",
    "# GAME ON\n",
    "\n",
    "# GAME OFF"
   ]
  },
  {
   "cell_type": "code",
   "execution_count": 159,
   "id": "51a17324-8473-4975-9509-e23ac31df5df",
   "metadata": {
    "tags": []
   },
   "outputs": [
    {
     "name": "stdout",
     "output_type": "stream",
     "text": [
      "Round 1\n",
      "Round 2\n",
      "Round 3\n",
      "Round 4\n",
      "Round 5\n",
      "Round 6\n",
      "Round 7\n",
      "Round 8\n",
      "WAR\n",
      "Round 9\n",
      "Round 10\n",
      "Round 11\n",
      "Round 12\n",
      "Round 13\n",
      "Round 14\n",
      "Round 15\n",
      "Round 16\n",
      "Round 17\n",
      "Round 18\n",
      "Round 19\n",
      "Round 20\n",
      "Round 21\n",
      "Round 22\n",
      "Round 23\n",
      "Round 24\n",
      "Round 25\n",
      "Round 26\n",
      "Round 27\n",
      "Round 28\n",
      "Round 29\n",
      "WAR\n",
      "Round 30\n",
      "Round 31\n",
      "WAR\n",
      "Round 32\n",
      "Round 33\n",
      "Round 34\n",
      "WAR\n",
      "Round 35\n",
      "Round 36\n",
      "Round 37\n",
      "Round 38\n",
      "Round 39\n",
      "Round 40\n",
      "Round 41\n",
      "Round 42\n",
      "Round 43\n",
      "Round 44\n",
      "Round 45\n",
      "Round 46\n",
      "Round 47\n",
      "Round 48\n",
      "Round 49\n",
      "Round 50\n",
      "Round 51\n",
      "Round 52\n",
      "Round 53\n",
      "Round 54\n",
      "Round 55\n",
      "Round 56\n",
      "Round 57\n",
      "Round 58\n",
      "Round 59\n",
      "Round 60\n",
      "Round 61\n",
      "Player one out of cards! Player two wins\n"
     ]
    }
   ],
   "source": [
    "round_num=0\n",
    "\n",
    "while game_on:\n",
    "    \n",
    "    round_num += 1\n",
    "    print(f\"Round {round_num}\")\n",
    "    \n",
    "    if len(player_one.all_cards) == 0: #ALL CARDS THE PLAYER HAS HAS ANYONE LOST\n",
    "        print(\"Player one out of cards! Player two wins\")\n",
    "        game_on = False\n",
    "        break\n",
    "        \n",
    "    \n",
    "    if len(player_two.all_cards) == 0:\n",
    "        print(\"Player two out of cards! Player one wins\")\n",
    "        game_on = False\n",
    "        break\n",
    "    \n",
    "    #START NEW ROUND\n",
    "    \n",
    "    player_one_cards = [] #CARDS ON TABLE \n",
    "    player_one_cards.append(player_one.remove_one())\n",
    "    \n",
    "    player_two_cards = []\n",
    "    player_two_cards.append(player_two.remove_one())\n",
    "    \n",
    "    #THE GAME ITSELF\n",
    "    \n",
    "    at_war = True #assuming war is happening and trying to find reasons to end it\n",
    "    \n",
    "    while at_war:\n",
    "        \n",
    "        if player_one_cards[-1].value > player_two_cards[-1].value:\n",
    "            \n",
    "            player_one.add_cards(player_one_cards)\n",
    "            player_one.add_cards(player_two_cards)\n",
    "            \n",
    "            at_war = False\n",
    "        \n",
    "        elif player_two_cards[-1].value > player_one_cards[-1].value:\n",
    "            \n",
    "            player_two.add_cards(player_two_cards)\n",
    "            player_two.add_cards(player_one_cards)\n",
    "            \n",
    "            at_war = False\n",
    "            \n",
    "        else:\n",
    "            print(\"WAR\")\n",
    "            \n",
    "            if len(player_one.all_cards) < 5:\n",
    "                print(\"Player one unable to WAR\")\n",
    "                print(\"Player two wins\")\n",
    "                game_one = False\n",
    "                break\n",
    "                \n",
    "            elif len(player_two.all_cards) < 5:\n",
    "                print(\"Player two unable to WAR\")\n",
    "                print(\"Player one wins\")\n",
    "                game_one = False\n",
    "                break\n",
    "                    \n",
    "            else:\n",
    "                for num in range(5):\n",
    "                    player_one_cards.append(player_one.remove_one())\n",
    "                    player_two_cards.append(player_two.remove_one())\n",
    "\n",
    "        \n",
    "        \n",
    "    \n",
    "    \n",
    "    "
   ]
  },
  {
   "cell_type": "code",
   "execution_count": null,
   "id": "9740a3ae-7dc8-45b8-88d7-eb90caa8243a",
   "metadata": {},
   "outputs": [],
   "source": []
  }
 ],
 "metadata": {
  "kernelspec": {
   "display_name": "Python 3 (ipykernel)",
   "language": "python",
   "name": "python3"
  },
  "language_info": {
   "codemirror_mode": {
    "name": "ipython",
    "version": 3
   },
   "file_extension": ".py",
   "mimetype": "text/x-python",
   "name": "python",
   "nbconvert_exporter": "python",
   "pygments_lexer": "ipython3",
   "version": "3.11.5"
  }
 },
 "nbformat": 4,
 "nbformat_minor": 5
}
