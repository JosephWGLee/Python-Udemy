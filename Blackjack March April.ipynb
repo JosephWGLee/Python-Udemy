{
 "cells": [
  {
   "cell_type": "code",
   "execution_count": 1,
   "id": "8e31cb35-c693-4454-8ea2-f833d2f4cdfc",
   "metadata": {
    "tags": []
   },
   "outputs": [],
   "source": [
    "import random\n",
    "\n",
    "suits = ('Hearts', 'Diamonds', 'Spades', 'Clubs')\n",
    "\n",
    "ranks = ('Two', 'Three', 'Four', 'Five', 'Six', 'Seven', 'Eight', 'Nine', 'Ten', 'Jack', 'Queen', 'King', 'Ace')\n",
    "\n",
    "values = {'Two':2, 'Three':3, 'Four':4, 'Five':5, 'Six':6, 'Seven':7, 'Eight':8, \n",
    "            'Nine':9, 'Ten':10, 'Jack':10, 'Queen':10, 'King':10, 'Ace':11}"
   ]
  },
  {
   "cell_type": "code",
   "execution_count": 2,
   "id": "84e5a96e-c115-4f1a-a004-9dbb70c6e58d",
   "metadata": {
    "tags": []
   },
   "outputs": [],
   "source": [
    "playing = True"
   ]
  },
  {
   "cell_type": "code",
   "execution_count": 3,
   "id": "6d68319d-3598-4493-aa0a-e3fd21a3dcea",
   "metadata": {
    "tags": []
   },
   "outputs": [],
   "source": [
    "class Card:\n",
    "    \n",
    "    def __init__(self,suit,rank):\n",
    "        \n",
    "        self.suit = suit\n",
    "        self.rank = rank\n",
    "        self.value = values[rank]\n",
    "    \n",
    "    def __str__(self):\n",
    "        return self.rank + \" of \" + self.suit\n",
    "        "
   ]
  },
  {
   "cell_type": "code",
   "execution_count": 4,
   "id": "7b42b7a1-6705-42f2-813b-33965f61604b",
   "metadata": {
    "tags": []
   },
   "outputs": [],
   "source": [
    "class Deck:\n",
    "    \n",
    "    def __init__(self):\n",
    "        self.deck = []  # start with an empty list\n",
    "        for suit in suits: #suits full\n",
    "            for rank in ranks: #ranks full\n",
    "                #creating the object \"card\"\n",
    "                created_card = Card(suit,rank)\n",
    "                \n",
    "                self.deck.append(created_card)\n",
    "    \n",
    "    def shuffle(self):\n",
    "        random.shuffle(self.deck)\n",
    "    \n",
    "    def deal(self):\n",
    "        single_card = self.deck.pop()\n",
    "        return single_card\n",
    "        \n",
    "    def __str__(self):\n",
    "        return \"\\n\" .join(str(card) for card in self.deck) \n",
    "    \n",
    "    # \" \" empty string .join allows iterables to be joined in a string, this is taking the iterables in object self.deck \n",
    "    \n"
   ]
  },
  {
   "cell_type": "code",
   "execution_count": 5,
   "id": "306e63c9-3264-44c8-8cfd-99030b77a692",
   "metadata": {
    "tags": []
   },
   "outputs": [
    {
     "name": "stdout",
     "output_type": "stream",
     "text": [
      "Two of Hearts\n",
      "Three of Diamonds\n",
      "Two of Hearts\n",
      "Three of Hearts\n",
      "Four of Hearts\n",
      "Five of Hearts\n",
      "Six of Hearts\n",
      "Seven of Hearts\n",
      "Eight of Hearts\n",
      "Nine of Hearts\n",
      "Ten of Hearts\n",
      "Jack of Hearts\n",
      "Queen of Hearts\n",
      "King of Hearts\n",
      "Ace of Hearts\n",
      "Two of Diamonds\n",
      "Three of Diamonds\n",
      "Four of Diamonds\n",
      "Five of Diamonds\n",
      "Six of Diamonds\n",
      "Seven of Diamonds\n",
      "Eight of Diamonds\n",
      "Nine of Diamonds\n",
      "Ten of Diamonds\n",
      "Jack of Diamonds\n",
      "Queen of Diamonds\n",
      "King of Diamonds\n",
      "Ace of Diamonds\n",
      "Two of Spades\n",
      "Three of Spades\n",
      "Four of Spades\n",
      "Five of Spades\n",
      "Six of Spades\n",
      "Seven of Spades\n",
      "Eight of Spades\n",
      "Nine of Spades\n",
      "Ten of Spades\n",
      "Jack of Spades\n",
      "Queen of Spades\n",
      "King of Spades\n",
      "Ace of Spades\n",
      "Two of Clubs\n",
      "Three of Clubs\n",
      "Four of Clubs\n",
      "Five of Clubs\n",
      "Six of Clubs\n",
      "Seven of Clubs\n",
      "Eight of Clubs\n",
      "Nine of Clubs\n",
      "Ten of Clubs\n",
      "Jack of Clubs\n",
      "Queen of Clubs\n",
      "King of Clubs\n",
      "Ace of Clubs\n"
     ]
    }
   ],
   "source": [
    "test_deck = Deck()\n",
    "len(test_deck.deck)\n",
    "print(test_deck.deck[0])\n",
    "test_deck.shuffle()\n",
    "print(test_deck.deck[0])\n",
    "test_deck = Deck()\n",
    "print(test_deck)"
   ]
  },
  {
   "cell_type": "code",
   "execution_count": 6,
   "id": "79ca68cc-97c2-4978-8b39-0a22630783db",
   "metadata": {
    "tags": []
   },
   "outputs": [],
   "source": [
    "class Hand: # What cards are in someones hand\n",
    "    def __init__(self):\n",
    "        self.cards = []  # start with an empty list as we did in the Deck class\n",
    "        self.value = 0   # start with zero value\n",
    "        self.aces = 0    # add an attribute to keep track of aces\n",
    "    \n",
    "    def add_card(self,card): #Store card objects that make up the hand \n",
    "        \n",
    "            self.cards.append(card) # take card adding to hand\n",
    "            #card passed in from deck \n",
    "            #from deck.deal() - -single card (suit, rank)\n",
    "            self.value += values[card.rank] #looking up dictionary adding up the card values  \n",
    "            \n",
    "            #trck aces\n",
    "            if card.rank == \"Ace\":\n",
    "                self.aces += 1\n",
    "    \n",
    "    def adjust_for_ace(self): #Does this mean add ace to value?\n",
    "        \n",
    "        while self.value > 21 and self.aces > 0:\n",
    "            # if the total value is biffer than 21 and I have a an ace sithc it to 1 not 11\n",
    "            # treating the self.aces as a boolean\n",
    "            # take value and subtract 10 from it if greater than 21\n",
    "            # take one away from my aces \n",
    "            \n",
    "            self.value -= 10\n",
    "            self.aces -= 1"
   ]
  },
  {
   "cell_type": "code",
   "execution_count": 7,
   "id": "ba76fa67-cdbc-4bc2-b4e9-874167cb2c9f",
   "metadata": {
    "tags": []
   },
   "outputs": [],
   "source": [
    "class Chips:\n",
    "    \n",
    "    def __init__(self):\n",
    "        self.total = 100  # This can be set to a default value or supplied by a user input\n",
    "        self.bet = 0\n",
    "        \n",
    "    def win_bet(self):\n",
    "        self.total += 2 * self.bet\n",
    "    \n",
    "    def lose_bet(self):\n",
    "        self.total -= self.bet \n",
    "        \n",
    "    def take_bet(self,amount): #self allos me to call the instance variables \n",
    "    \n",
    "        if amount > self.total:\n",
    "            print(\"Bet greater than total chips: {}\" .format(self.total))\n",
    "            return False \n",
    "        \n",
    "        else:\n",
    "            self.bet = amount\n",
    "            self.total -= amount\n",
    "            return True "
   ]
  },
  {
   "cell_type": "code",
   "execution_count": 8,
   "id": "0b2b3d7a-b40d-40aa-a0f4-63d1a0035746",
   "metadata": {
    "tags": []
   },
   "outputs": [],
   "source": [
    "def take_bet(chips):\n",
    "    \n",
    "    while True:\n",
    "        \n",
    "        try:\n",
    "            chips.bet = int(input(\"How much do you bet?\"))\n",
    "        except ValueError:\n",
    "            print(\"Please input an integer\")\n",
    "        \n",
    "        else:\n",
    "            if chips.bet > chips.total:\n",
    "                print(\"Bet greater than total chips {}\" .format(chips.total))\n",
    "            else:\n",
    "                break"
   ]
  },
  {
   "cell_type": "code",
   "execution_count": 9,
   "id": "db0e5ce9-cfdd-4bf0-a40d-1516688c4ce4",
   "metadata": {
    "tags": []
   },
   "outputs": [],
   "source": [
    "def hit(deck,hand):\n",
    "    \n",
    "    single_card = deck.deal() #.deal calls deal method of deck object \n",
    "    hand.add_card(single_card)\n",
    "    hand.adjust_for_ace()"
   ]
  },
  {
   "cell_type": "code",
   "execution_count": 10,
   "id": "26a49f69-2473-4d16-a790-5f824314ab2f",
   "metadata": {
    "tags": []
   },
   "outputs": [],
   "source": [
    "def hit_or_stand(deck,hand):\n",
    "    \n",
    "    global playing  # to control an upcoming while loop\n",
    "    \n",
    "    choice = input(\"Would you like to Hit or Stand?\").upper()\n",
    "    \n",
    "    if choice not in [\"HIT\" or \"STAND\"]:\n",
    "        print (\"Please choose Hit or Stand\")\n",
    "    else:\n",
    "        if choice == \"HIT\":\n",
    "            hit(deck,hand)\n",
    "        else:\n",
    "            playing = False\n",
    "            "
   ]
  },
  {
   "cell_type": "code",
   "execution_count": 15,
   "id": "1054026f-71f7-4f41-96e9-e3553be7f697",
   "metadata": {
    "tags": []
   },
   "outputs": [],
   "source": [
    "def show_some(player,dealer):\n",
    "    \n",
    "    if player.cards:\n",
    "        player_input = [str(card) for card in player.cards]\n",
    "        print(\"Player has: {}\" .format(player_input))\n",
    "        print(\"The total value of these cards is:\", player.value)\n",
    "    else:\n",
    "        print(\"Error: Player hand empty\")\n",
    "         \n",
    "    if dealer.cards:\n",
    "        dealer_input = [str(card) for card in dealer.cards[1:]] \n",
    "        print(\"Dealers visible card is: {}\" .format(dealer_input))\n",
    "    else:\n",
    "        print(\"Error: Dealer hand empty\")\n",
    "    \n",
    "    \n",
    "def show_all(player,dealer):\n",
    "    \n",
    "    if player.cards:\n",
    "        player_input = [str(card) for card in player.cards]\n",
    "        print(\"Player has: {}\" .format(player_input))\n",
    "        print(\"The total value of these cards is:\", player.value)\n",
    "    else:\n",
    "        print(\"Error: Player hand empty\")\n",
    "        \n",
    "    if dealer.cards:\n",
    "        dealer_input = [str(card) for card in dealer.cards] \n",
    "        print(\"Dealer has: {}\" .format(dealer_input))\n",
    "        print(\"The total value of these cards is:\", dealer.value)\n",
    "    else:\n",
    "        print(\"Error: Dealer hand empty\")\n",
    "    "
   ]
  },
  {
   "cell_type": "code",
   "execution_count": 12,
   "id": "8dfb166c-053d-439d-bceb-1fb8342f0b1a",
   "metadata": {
    "tags": []
   },
   "outputs": [],
   "source": [
    "def player_busts(player, dealer, chips):\n",
    "    \n",
    "    if player.value > 21:\n",
    "        print(\"Value over 21. Player busts\")\n",
    "        chips.lose_bet()\n",
    "    \n",
    "def player_wins(player, dealer, chips):\n",
    "    \n",
    "    if player.value <= 21 and dealer.value < player.value:\n",
    "        print(\"Player wins\")\n",
    "        chips.win_bet()\n",
    "\n",
    "def dealer_busts(player, dealer, chips):\n",
    "    \n",
    "    if dealer.value < 21:\n",
    "        print(\"Value over 21. Dealer busts\")\n",
    "        chips.lose_bet()\n",
    "\n",
    "def dealer_wins(player, dealer, chips):\n",
    "    \n",
    "    if dealer.value <= 21 and player.value < dealer.value:\n",
    "        print(\"Dealer wins\")\n",
    "        chips.win_bet()\n",
    "    \n",
    "def push(player, dealer, chips):\n",
    "    \n",
    "    if dealer.value == player.value:\n",
    "        print(\"Draw, push\")\n",
    " "
   ]
  },
  {
   "cell_type": "code",
   "execution_count": 13,
   "id": "f6e5ca22-b1a2-4700-8431-5c7f902d3314",
   "metadata": {
    "tags": []
   },
   "outputs": [],
   "source": [
    "def replay():\n",
    "        replay_query = input(\"Do you want to play again (yes or no):\").upper()\n",
    "        return replay_query == \"YES\""
   ]
  },
  {
   "cell_type": "code",
   "execution_count": 17,
   "id": "208414fe-648b-4de9-87ac-e5962bddc581",
   "metadata": {
    "tags": []
   },
   "outputs": [
    {
     "name": "stdout",
     "output_type": "stream",
     "text": [
      "Welcome to Blackjack\n"
     ]
    },
    {
     "name": "stdin",
     "output_type": "stream",
     "text": [
      "How much do you bet? 100\n"
     ]
    },
    {
     "name": "stdout",
     "output_type": "stream",
     "text": [
      "Player has: ['Six of Clubs', 'Ten of Diamonds']\n",
      "The total value of these cards is: 16\n",
      "Dealers visible card is: ['Three of Hearts']\n"
     ]
    },
    {
     "name": "stdin",
     "output_type": "stream",
     "text": [
      "Would you like to Hit or Stand? hit\n"
     ]
    },
    {
     "name": "stdout",
     "output_type": "stream",
     "text": [
      "Player has: ['Six of Clubs', 'Ten of Diamonds', 'Jack of Clubs']\n",
      "The total value of these cards is: 26\n",
      "Dealers visible card is: ['Three of Hearts']\n",
      "Value over 21. Player busts\n",
      "Player chips: 0\n"
     ]
    },
    {
     "ename": "KeyboardInterrupt",
     "evalue": "Interrupted by user",
     "output_type": "error",
     "traceback": [
      "\u001b[1;31m---------------------------------------------------------------------------\u001b[0m",
      "\u001b[1;31mKeyboardInterrupt\u001b[0m                         Traceback (most recent call last)",
      "Cell \u001b[1;32mIn[17], line 82\u001b[0m\n\u001b[0;32m     78\u001b[0m \u001b[38;5;28mprint\u001b[39m (\u001b[38;5;124m\"\u001b[39m\u001b[38;5;124mPlayer chips: \u001b[39m\u001b[38;5;132;01m{}\u001b[39;00m\u001b[38;5;124m\"\u001b[39m\u001b[38;5;241m.\u001b[39mformat(player_chips\u001b[38;5;241m.\u001b[39mtotal))\n\u001b[0;32m     80\u001b[0m \u001b[38;5;66;03m# Ask to play again\u001b[39;00m\n\u001b[1;32m---> 82\u001b[0m \u001b[38;5;28;01mif\u001b[39;00m \u001b[38;5;129;01mnot\u001b[39;00m replay():\n\u001b[0;32m     83\u001b[0m     \u001b[38;5;28;01mbreak\u001b[39;00m\n",
      "Cell \u001b[1;32mIn[17], line 2\u001b[0m, in \u001b[0;36mreplay\u001b[1;34m()\u001b[0m\n\u001b[0;32m      1\u001b[0m \u001b[38;5;28;01mdef\u001b[39;00m \u001b[38;5;21mreplay\u001b[39m():\n\u001b[1;32m----> 2\u001b[0m         replay_query \u001b[38;5;241m=\u001b[39m \u001b[38;5;28minput\u001b[39m(\u001b[38;5;124m\"\u001b[39m\u001b[38;5;124mDo you want to play again (yes or no):\u001b[39m\u001b[38;5;124m\"\u001b[39m)\u001b[38;5;241m.\u001b[39mupper()\n\u001b[0;32m      3\u001b[0m         \u001b[38;5;28;01mreturn\u001b[39;00m replay_query \u001b[38;5;241m==\u001b[39m \u001b[38;5;124m\"\u001b[39m\u001b[38;5;124mYES\u001b[39m\u001b[38;5;124m\"\u001b[39m\n",
      "File \u001b[1;32m~\\AppData\\Local\\anaconda3\\Lib\\site-packages\\ipykernel\\kernelbase.py:1202\u001b[0m, in \u001b[0;36mKernel.raw_input\u001b[1;34m(self, prompt)\u001b[0m\n\u001b[0;32m   1200\u001b[0m     msg \u001b[38;5;241m=\u001b[39m \u001b[38;5;124m\"\u001b[39m\u001b[38;5;124mraw_input was called, but this frontend does not support input requests.\u001b[39m\u001b[38;5;124m\"\u001b[39m\n\u001b[0;32m   1201\u001b[0m     \u001b[38;5;28;01mraise\u001b[39;00m StdinNotImplementedError(msg)\n\u001b[1;32m-> 1202\u001b[0m \u001b[38;5;28;01mreturn\u001b[39;00m \u001b[38;5;28mself\u001b[39m\u001b[38;5;241m.\u001b[39m_input_request(\n\u001b[0;32m   1203\u001b[0m     \u001b[38;5;28mstr\u001b[39m(prompt),\n\u001b[0;32m   1204\u001b[0m     \u001b[38;5;28mself\u001b[39m\u001b[38;5;241m.\u001b[39m_parent_ident[\u001b[38;5;124m\"\u001b[39m\u001b[38;5;124mshell\u001b[39m\u001b[38;5;124m\"\u001b[39m],\n\u001b[0;32m   1205\u001b[0m     \u001b[38;5;28mself\u001b[39m\u001b[38;5;241m.\u001b[39mget_parent(\u001b[38;5;124m\"\u001b[39m\u001b[38;5;124mshell\u001b[39m\u001b[38;5;124m\"\u001b[39m),\n\u001b[0;32m   1206\u001b[0m     password\u001b[38;5;241m=\u001b[39m\u001b[38;5;28;01mFalse\u001b[39;00m,\n\u001b[0;32m   1207\u001b[0m )\n",
      "File \u001b[1;32m~\\AppData\\Local\\anaconda3\\Lib\\site-packages\\ipykernel\\kernelbase.py:1245\u001b[0m, in \u001b[0;36mKernel._input_request\u001b[1;34m(self, prompt, ident, parent, password)\u001b[0m\n\u001b[0;32m   1242\u001b[0m \u001b[38;5;28;01mexcept\u001b[39;00m \u001b[38;5;167;01mKeyboardInterrupt\u001b[39;00m:\n\u001b[0;32m   1243\u001b[0m     \u001b[38;5;66;03m# re-raise KeyboardInterrupt, to truncate traceback\u001b[39;00m\n\u001b[0;32m   1244\u001b[0m     msg \u001b[38;5;241m=\u001b[39m \u001b[38;5;124m\"\u001b[39m\u001b[38;5;124mInterrupted by user\u001b[39m\u001b[38;5;124m\"\u001b[39m\n\u001b[1;32m-> 1245\u001b[0m     \u001b[38;5;28;01mraise\u001b[39;00m \u001b[38;5;167;01mKeyboardInterrupt\u001b[39;00m(msg) \u001b[38;5;28;01mfrom\u001b[39;00m \u001b[38;5;28;01mNone\u001b[39;00m\n\u001b[0;32m   1246\u001b[0m \u001b[38;5;28;01mexcept\u001b[39;00m \u001b[38;5;167;01mException\u001b[39;00m:\n\u001b[0;32m   1247\u001b[0m     \u001b[38;5;28mself\u001b[39m\u001b[38;5;241m.\u001b[39mlog\u001b[38;5;241m.\u001b[39mwarning(\u001b[38;5;124m\"\u001b[39m\u001b[38;5;124mInvalid Message:\u001b[39m\u001b[38;5;124m\"\u001b[39m, exc_info\u001b[38;5;241m=\u001b[39m\u001b[38;5;28;01mTrue\u001b[39;00m)\n",
      "\u001b[1;31mKeyboardInterrupt\u001b[0m: Interrupted by user"
     ]
    }
   ],
   "source": [
    "def replay():\n",
    "        replay_query = input(\"Do you want to play again (yes or no):\").upper()\n",
    "        return replay_query == \"YES\"\n",
    "\n",
    "while True:\n",
    "\n",
    "    print(\"Welcome to Blackjack\")\n",
    "    \n",
    "    playing = True\n",
    "    \n",
    "    deck = Deck()\n",
    "    deck.shuffle()\n",
    "    \n",
    "    player_hand = Hand()\n",
    "    player_hand.add_card(deck.deal())\n",
    "    player_hand.add_card(deck.deal())\n",
    "    \n",
    "    dealer_hand = Hand()\n",
    "    dealer_hand.add_card(deck.deal())\n",
    "    dealer_hand.add_card(deck.deal())\n",
    "    \n",
    "    \n",
    "    player_chips = Chips()\n",
    "    take_bet(player_chips)\n",
    "\n",
    "    \n",
    "    show_some(player_hand, dealer_hand)\n",
    "    \n",
    "    \n",
    "    while playing: \n",
    "        \n",
    "        hit_or_stand(deck,player_hand)\n",
    "        \n",
    "        show_some(player_hand, dealer_hand)\n",
    " \n",
    "        if player_hand.value > 21:\n",
    "            player_busts(player_hand, dealer_hand, player_chips)\n",
    "\n",
    "            break\n",
    "\n",
    "    if player_hand.value <= 21:\n",
    "        \n",
    "        while dealer_hand.value < 17:\n",
    "            hit(deck,dealer_hand)\n",
    "\n",
    "        show_all(player_hand, dealer_hand)\n",
    "\n",
    "        if dealer_hand.value > 21:\n",
    "            dealer_busts(player_hand, dealer_hand, player_chips)\n",
    "        elif dealer_hand.value > player_hand.value:\n",
    "            dealer_wins(player_hand, dealer_hand, player_chips)\n",
    "        elif player_hand.value > dealer_hand.value:\n",
    "            player_wins(player_hand, dealer_hand, player_chips)\n",
    "        else:\n",
    "            push(player_hand, dealer_hand)\n",
    "        \n",
    "    print (\"Player chips: {}\".format(player_chips.total))\n",
    "\n",
    "    if not replay():\n",
    "        break \n"
   ]
  },
  {
   "cell_type": "code",
   "execution_count": null,
   "id": "e9b9fb1f-6c3e-4213-829c-ff9ef08e6054",
   "metadata": {},
   "outputs": [],
   "source": []
  }
 ],
 "metadata": {
  "kernelspec": {
   "display_name": "Python 3 (ipykernel)",
   "language": "python",
   "name": "python3"
  },
  "language_info": {
   "codemirror_mode": {
    "name": "ipython",
    "version": 3
   },
   "file_extension": ".py",
   "mimetype": "text/x-python",
   "name": "python",
   "nbconvert_exporter": "python",
   "pygments_lexer": "ipython3",
   "version": "3.11.5"
  }
 },
 "nbformat": 4,
 "nbformat_minor": 5
}
