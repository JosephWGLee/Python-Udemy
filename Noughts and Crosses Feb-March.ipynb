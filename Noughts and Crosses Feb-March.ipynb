{
 "cells": [
  {
   "cell_type": "code",
   "execution_count": 62,
   "id": "f3ddb3d6-995d-4edb-9886-7728829d7aad",
   "metadata": {
    "tags": []
   },
   "outputs": [],
   "source": [
    "def display_board(board):\n",
    "   \n",
    "    row1 = board[0:3]\n",
    "    row2 = board[3:6]\n",
    "    row3 = board[6:9]\n",
    "\n",
    "    print(f\" {row1[0]} | {row1[1]} | {row1[2]} \")\n",
    "    print(\"-----------\")\n",
    "    print(f\" {row2[0]} | {row2[1]} | {row2[2]} \")\n",
    "    print(\"-----------\")\n",
    "    print(f\" {row3[0]} | {row3[1]} | {row3[2]} \")"
   ]
  },
  {
   "cell_type": "code",
   "execution_count": 61,
   "id": "80e6aff0-96f0-4743-921b-d2b7e803f3f3",
   "metadata": {
    "tags": []
   },
   "outputs": [],
   "source": [
    "# for whatever reason the clear output as suggested in udemy doesn't work\n",
    "# I have no idea why but it repeatedly crashes after a few inputs\n",
    "# I've spent maybe an hour trying to debug this and I have no idea why so \n",
    "# This is less elegant and takes up more space but actually works so I am sticking with it "
   ]
  },
  {
   "cell_type": "code",
   "execution_count": 23,
   "id": "03fbe709-790f-4d6c-b9e8-847fac5a874f",
   "metadata": {
    "tags": []
   },
   "outputs": [],
   "source": [
    "def player_input():\n",
    "    \n",
    "    marker = \" \" #set to empty \n",
    "    \n",
    "    while marker not in [\"X\", \"O\"]:\n",
    "        marker = input(\"Do you want to be (X or O):\").upper()\n",
    "        if marker not in [\"X\", \"O\"]:\n",
    "            print(\"Please choose X or O\")\n",
    "    if marker == \"X\":\n",
    "        return (\"X\", \"O\")\n",
    "    else:\n",
    "        return (\"O\", \"X\")\n",
    "        \n",
    "#output as tuple player 1 marker and player 2 marker "
   ]
  },
  {
   "cell_type": "code",
   "execution_count": 24,
   "id": "71a4ef38-01cf-4ee3-825a-3b7f6ce0e3c5",
   "metadata": {
    "tags": []
   },
   "outputs": [],
   "source": [
    "def place_marker(board, marker, position):\n",
    "    board[position] = marker"
   ]
  },
  {
   "cell_type": "code",
   "execution_count": 25,
   "id": "1e8965ec-eb63-4b77-82ae-2d74a980a38b",
   "metadata": {
    "tags": []
   },
   "outputs": [],
   "source": [
    "def win_check(board, marker):\n",
    "    \n",
    "    winning_combinations = [\n",
    "    [board[0], board[1], board[2]], #top across\n",
    "    [board[3], board[4], board[5]], #mid across\n",
    "    [board[6], board[7], board[8]], #bot across\n",
    "    [board[0], board[3], board[6]], #column 1 vert\n",
    "    [board[1], board[4], board[7]], #column 2 vert\n",
    "    [board[2], board[5], board[8]], #column 3 vert\n",
    "    [board[0], board[4], board[8]], #diagonal 1\n",
    "    [board[2], board[4], board[6]], #diagonal 2\n",
    "    ]\n",
    "    \n",
    "    for combination in winning_combinations:\n",
    "        if all(cell == marker for cell in combination):\n",
    "            return True\n",
    "        \n",
    "    return False "
   ]
  },
  {
   "cell_type": "code",
   "execution_count": 26,
   "id": "6db6c350-fc41-4899-9f1c-c973b22f039d",
   "metadata": {
    "tags": []
   },
   "outputs": [],
   "source": [
    "import random\n",
    "\n",
    "def choose_first():\n",
    "    return(random.randint(1, 2))"
   ]
  },
  {
   "cell_type": "code",
   "execution_count": 31,
   "id": "757afdaa-8f1d-4b21-8d0b-a8fcfe4f05b0",
   "metadata": {
    "tags": []
   },
   "outputs": [],
   "source": [
    "def space_check(board, position):\n",
    "    return board[position] == \" \" \n",
    "            \n",
    "            #accessing element at index specified by position in the board list"
   ]
  },
  {
   "cell_type": "code",
   "execution_count": 41,
   "id": "a33cd3b0-f22e-49ec-a130-66956566c24a",
   "metadata": {
    "tags": []
   },
   "outputs": [],
   "source": [
    "def full_board_check(board):\n",
    "    return \" \" not in board \n",
    " "
   ]
  },
  {
   "cell_type": "code",
   "execution_count": 49,
   "id": "641895e9-7236-47b5-bcc0-1e5b3b138b76",
   "metadata": {
    "tags": []
   },
   "outputs": [],
   "source": [
    "def player_choice(board):\n",
    "    \n",
    "    choice = -1 #choice is made an invalid integer not \"WRONG\" placeholder\n",
    "    \n",
    "    while choice not in range(9) or not space_check(board, choice):\n",
    "        try:\n",
    "            choice = int(input(\"Input value: (0-8)\"))\n",
    "            \n",
    "            if choice not in range(9):\n",
    "                print(\"Sorry, input the correct value\")\n",
    "            \n",
    "            elif not space_check(board, choice):\n",
    "                print(\"Position taken\")\n",
    "                \n",
    "        except ValueError:\n",
    "                print(\"Please choose a correct value (0-8):\")\n",
    "                \n",
    "    return choice"
   ]
  },
  {
   "cell_type": "code",
   "execution_count": 34,
   "id": "a113aefd-60c4-41e8-b598-ef180a3a9980",
   "metadata": {
    "tags": []
   },
   "outputs": [],
   "source": [
    "def replay():\n",
    "        replay_query = input(\"Do you want to play again (yes or no):\").upper()\n",
    "        return replay_query == \"YES\""
   ]
  },
  {
   "cell_type": "code",
   "execution_count": 63,
   "id": "588548e5-197e-4166-934d-237871b1c896",
   "metadata": {
    "tags": []
   },
   "outputs": [
    {
     "name": "stdout",
     "output_type": "stream",
     "text": [
      "Welcome to Tic Tac Toe!\n"
     ]
    },
    {
     "name": "stdin",
     "output_type": "stream",
     "text": [
      "Do you want to be (X or O): x\n"
     ]
    },
    {
     "name": "stdout",
     "output_type": "stream",
     "text": [
      "Player 2 will go first.\n",
      "   |   |   \n",
      "   |   |   \n",
      "   |   |   \n",
      "Player 2's turn (O)\n"
     ]
    },
    {
     "name": "stdin",
     "output_type": "stream",
     "text": [
      "Input value: (0-8) 0\n"
     ]
    },
    {
     "name": "stdout",
     "output_type": "stream",
     "text": [
      " O |   |   \n",
      "   |   |   \n",
      "   |   |   \n",
      "Player 1's turn (X)\n"
     ]
    },
    {
     "name": "stdin",
     "output_type": "stream",
     "text": [
      "Input value: (0-8) 1\n"
     ]
    },
    {
     "name": "stdout",
     "output_type": "stream",
     "text": [
      " O | X |   \n",
      "   |   |   \n",
      "   |   |   \n",
      "Player 2's turn (O)\n"
     ]
    },
    {
     "name": "stdin",
     "output_type": "stream",
     "text": [
      "Input value: (0-8) 3\n"
     ]
    },
    {
     "name": "stdout",
     "output_type": "stream",
     "text": [
      " O | X |   \n",
      " O |   |   \n",
      "   |   |   \n",
      "Player 1's turn (X)\n"
     ]
    },
    {
     "name": "stdin",
     "output_type": "stream",
     "text": [
      "Input value: (0-8) 4\n"
     ]
    },
    {
     "name": "stdout",
     "output_type": "stream",
     "text": [
      " O | X |   \n",
      " O | X |   \n",
      "   |   |   \n",
      "Player 2's turn (O)\n"
     ]
    },
    {
     "name": "stdin",
     "output_type": "stream",
     "text": [
      "Input value: (0-8) 3\n"
     ]
    },
    {
     "name": "stdout",
     "output_type": "stream",
     "text": [
      "Position taken\n"
     ]
    },
    {
     "name": "stdin",
     "output_type": "stream",
     "text": [
      "Input value: (0-8) 5\n"
     ]
    },
    {
     "name": "stdout",
     "output_type": "stream",
     "text": [
      " O | X |   \n",
      " O | X | O \n",
      "   |   |   \n",
      "Player 1's turn (X)\n"
     ]
    },
    {
     "name": "stdin",
     "output_type": "stream",
     "text": [
      "Input value: (0-8) 6\n"
     ]
    },
    {
     "name": "stdout",
     "output_type": "stream",
     "text": [
      " O | X |   \n",
      " O | X | O \n",
      " X |   |   \n",
      "Player 2's turn (O)\n"
     ]
    },
    {
     "name": "stdin",
     "output_type": "stream",
     "text": [
      "Input value: (0-8) 7\n"
     ]
    },
    {
     "name": "stdout",
     "output_type": "stream",
     "text": [
      " O | X |   \n",
      " O | X | O \n",
      " X | O |   \n",
      "Player 1's turn (X)\n"
     ]
    },
    {
     "name": "stdin",
     "output_type": "stream",
     "text": [
      "Input value: (0-8) 9\n"
     ]
    },
    {
     "name": "stdout",
     "output_type": "stream",
     "text": [
      "Sorry, input the correct value\n"
     ]
    },
    {
     "ename": "KeyboardInterrupt",
     "evalue": "Interrupted by user",
     "output_type": "error",
     "traceback": [
      "\u001b[1;31m---------------------------------------------------------------------------\u001b[0m",
      "\u001b[1;31mKeyboardInterrupt\u001b[0m                         Traceback (most recent call last)",
      "Cell \u001b[1;32mIn[63], line 16\u001b[0m\n\u001b[0;32m     14\u001b[0m \u001b[38;5;28;01mif\u001b[39;00m turn \u001b[38;5;241m==\u001b[39m \u001b[38;5;241m1\u001b[39m:\n\u001b[0;32m     15\u001b[0m     \u001b[38;5;28mprint\u001b[39m(\u001b[38;5;124mf\u001b[39m\u001b[38;5;124m\"\u001b[39m\u001b[38;5;124mPlayer 1\u001b[39m\u001b[38;5;124m'\u001b[39m\u001b[38;5;124ms turn (\u001b[39m\u001b[38;5;132;01m{\u001b[39;00mplayer1_marker\u001b[38;5;132;01m}\u001b[39;00m\u001b[38;5;124m)\u001b[39m\u001b[38;5;124m\"\u001b[39m)\n\u001b[1;32m---> 16\u001b[0m     position \u001b[38;5;241m=\u001b[39m player_choice(board)\n\u001b[0;32m     17\u001b[0m     place_marker(board, player1_marker, position)\n\u001b[0;32m     20\u001b[0m     \u001b[38;5;28;01mif\u001b[39;00m win_check(board, player1_marker):\n",
      "Cell \u001b[1;32mIn[49], line 7\u001b[0m, in \u001b[0;36mplayer_choice\u001b[1;34m(board)\u001b[0m\n\u001b[0;32m      5\u001b[0m \u001b[38;5;28;01mwhile\u001b[39;00m choice \u001b[38;5;129;01mnot\u001b[39;00m \u001b[38;5;129;01min\u001b[39;00m \u001b[38;5;28mrange\u001b[39m(\u001b[38;5;241m9\u001b[39m) \u001b[38;5;129;01mor\u001b[39;00m \u001b[38;5;129;01mnot\u001b[39;00m space_check(board, choice):\n\u001b[0;32m      6\u001b[0m     \u001b[38;5;28;01mtry\u001b[39;00m:\n\u001b[1;32m----> 7\u001b[0m         choice \u001b[38;5;241m=\u001b[39m \u001b[38;5;28mint\u001b[39m(\u001b[38;5;28minput\u001b[39m(\u001b[38;5;124m\"\u001b[39m\u001b[38;5;124mInput value: (0-8)\u001b[39m\u001b[38;5;124m\"\u001b[39m))\n\u001b[0;32m      9\u001b[0m         \u001b[38;5;28;01mif\u001b[39;00m choice \u001b[38;5;129;01mnot\u001b[39;00m \u001b[38;5;129;01min\u001b[39;00m \u001b[38;5;28mrange\u001b[39m(\u001b[38;5;241m9\u001b[39m):\n\u001b[0;32m     10\u001b[0m             \u001b[38;5;28mprint\u001b[39m(\u001b[38;5;124m\"\u001b[39m\u001b[38;5;124mSorry, input the correct value\u001b[39m\u001b[38;5;124m\"\u001b[39m)\n",
      "File \u001b[1;32m~\\AppData\\Local\\anaconda3\\Lib\\site-packages\\ipykernel\\kernelbase.py:1202\u001b[0m, in \u001b[0;36mKernel.raw_input\u001b[1;34m(self, prompt)\u001b[0m\n\u001b[0;32m   1200\u001b[0m     msg \u001b[38;5;241m=\u001b[39m \u001b[38;5;124m\"\u001b[39m\u001b[38;5;124mraw_input was called, but this frontend does not support input requests.\u001b[39m\u001b[38;5;124m\"\u001b[39m\n\u001b[0;32m   1201\u001b[0m     \u001b[38;5;28;01mraise\u001b[39;00m StdinNotImplementedError(msg)\n\u001b[1;32m-> 1202\u001b[0m \u001b[38;5;28;01mreturn\u001b[39;00m \u001b[38;5;28mself\u001b[39m\u001b[38;5;241m.\u001b[39m_input_request(\n\u001b[0;32m   1203\u001b[0m     \u001b[38;5;28mstr\u001b[39m(prompt),\n\u001b[0;32m   1204\u001b[0m     \u001b[38;5;28mself\u001b[39m\u001b[38;5;241m.\u001b[39m_parent_ident[\u001b[38;5;124m\"\u001b[39m\u001b[38;5;124mshell\u001b[39m\u001b[38;5;124m\"\u001b[39m],\n\u001b[0;32m   1205\u001b[0m     \u001b[38;5;28mself\u001b[39m\u001b[38;5;241m.\u001b[39mget_parent(\u001b[38;5;124m\"\u001b[39m\u001b[38;5;124mshell\u001b[39m\u001b[38;5;124m\"\u001b[39m),\n\u001b[0;32m   1206\u001b[0m     password\u001b[38;5;241m=\u001b[39m\u001b[38;5;28;01mFalse\u001b[39;00m,\n\u001b[0;32m   1207\u001b[0m )\n",
      "File \u001b[1;32m~\\AppData\\Local\\anaconda3\\Lib\\site-packages\\ipykernel\\kernelbase.py:1245\u001b[0m, in \u001b[0;36mKernel._input_request\u001b[1;34m(self, prompt, ident, parent, password)\u001b[0m\n\u001b[0;32m   1242\u001b[0m \u001b[38;5;28;01mexcept\u001b[39;00m \u001b[38;5;167;01mKeyboardInterrupt\u001b[39;00m:\n\u001b[0;32m   1243\u001b[0m     \u001b[38;5;66;03m# re-raise KeyboardInterrupt, to truncate traceback\u001b[39;00m\n\u001b[0;32m   1244\u001b[0m     msg \u001b[38;5;241m=\u001b[39m \u001b[38;5;124m\"\u001b[39m\u001b[38;5;124mInterrupted by user\u001b[39m\u001b[38;5;124m\"\u001b[39m\n\u001b[1;32m-> 1245\u001b[0m     \u001b[38;5;28;01mraise\u001b[39;00m \u001b[38;5;167;01mKeyboardInterrupt\u001b[39;00m(msg) \u001b[38;5;28;01mfrom\u001b[39;00m \u001b[38;5;28;01mNone\u001b[39;00m\n\u001b[0;32m   1246\u001b[0m \u001b[38;5;28;01mexcept\u001b[39;00m \u001b[38;5;167;01mException\u001b[39;00m:\n\u001b[0;32m   1247\u001b[0m     \u001b[38;5;28mself\u001b[39m\u001b[38;5;241m.\u001b[39mlog\u001b[38;5;241m.\u001b[39mwarning(\u001b[38;5;124m\"\u001b[39m\u001b[38;5;124mInvalid Message:\u001b[39m\u001b[38;5;124m\"\u001b[39m, exc_info\u001b[38;5;241m=\u001b[39m\u001b[38;5;28;01mTrue\u001b[39;00m)\n",
      "\u001b[1;31mKeyboardInterrupt\u001b[0m: Interrupted by user"
     ]
    }
   ],
   "source": [
    "print('Welcome to Tic Tac Toe!')\n",
    "\n",
    "while True:\n",
    "    board = [\" \"] * 9 \n",
    "    player1_marker, player2_marker = player_input()\n",
    "    turn = choose_first()\n",
    "    print(f\"Player {turn} will go first.\")\n",
    "    \n",
    "    game_on = True\n",
    "    \n",
    "    while game_on:\n",
    "        \n",
    "        display_board(board)\n",
    "        \n",
    "        if turn == 1:\n",
    "            \n",
    "            print(f\"Player 1's turn ({player1_marker})\")\n",
    "            \n",
    "            position = player_choice(board)\n",
    "            \n",
    "            place_marker(board, player1_marker, position)\n",
    "            \n",
    "            \n",
    "            if win_check(board, player1_marker):\n",
    "                display_board(board)\n",
    "                print(\"Player 1 wins\")\n",
    "                game_on = False\n",
    "                \n",
    "            elif full_board_check(board):\n",
    "                display_board(board)\n",
    "                print(\"Draw\")\n",
    "                game_on = False\n",
    "                \n",
    "            else:\n",
    "                turn = 2\n",
    "\n",
    "        else:\n",
    "            \n",
    "            print(f\"Player 2's turn ({player2_marker})\")\n",
    "            \n",
    "            position = player_choice(board)\n",
    "            \n",
    "            place_marker(board, player2_marker, position)\n",
    "            \n",
    "            if win_check(board, player2_marker):\n",
    "                display_board(board)\n",
    "                print(\"Player 2 wins\")\n",
    "                game_on = False\n",
    "                \n",
    "            elif full_board_check(board):\n",
    "                display_board(board)\n",
    "                print(\"Draw\")\n",
    "                game_on = False\n",
    "                \n",
    "            else:\n",
    "                turn = 1\n",
    "\n",
    "    if not replay():\n",
    "        break\n",
    "            "
   ]
  },
  {
   "cell_type": "code",
   "execution_count": null,
   "id": "3841c1c1-4c6e-48d5-b4b6-dc02a3993d50",
   "metadata": {},
   "outputs": [],
   "source": []
  },
  {
   "cell_type": "code",
   "execution_count": null,
   "id": "5163ff62-a346-4854-96cf-4a0ee812c399",
   "metadata": {},
   "outputs": [],
   "source": []
  }
 ],
 "metadata": {
  "kernelspec": {
   "display_name": "Python 3 (ipykernel)",
   "language": "python",
   "name": "python3"
  },
  "language_info": {
   "codemirror_mode": {
    "name": "ipython",
    "version": 3
   },
   "file_extension": ".py",
   "mimetype": "text/x-python",
   "name": "python",
   "nbconvert_exporter": "python",
   "pygments_lexer": "ipython3",
   "version": "3.11.5"
  }
 },
 "nbformat": 4,
 "nbformat_minor": 5
}
